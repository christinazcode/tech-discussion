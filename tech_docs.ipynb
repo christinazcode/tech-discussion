{
  "nbformat": 4,
  "nbformat_minor": 0,
  "metadata": {
    "colab": {
      "provenance": [],
      "authorship_tag": "ABX9TyOMHLgZuXBQVJ7OxMAct8mQ",
      "include_colab_link": true
    },
    "kernelspec": {
      "name": "python3",
      "display_name": "Python 3"
    },
    "language_info": {
      "name": "python"
    }
  },
  "cells": [
    {
      "cell_type": "markdown",
      "metadata": {
        "id": "view-in-github",
        "colab_type": "text"
      },
      "source": [
        "<a href=\"https://colab.research.google.com/github/christinazcode/tech-discussion/blob/main/tech_docs.ipynb\" target=\"_parent\"><img src=\"https://colab.research.google.com/assets/colab-badge.svg\" alt=\"Open In Colab\"/></a>"
      ]
    },
    {
      "cell_type": "markdown",
      "source": [
        "## Ingest"
      ],
      "metadata": {
        "id": "jYL-6cUe2227"
      }
    },
    {
      "cell_type": "code",
      "execution_count": 2,
      "metadata": {
        "colab": {
          "base_uri": "https://localhost:8080/"
        },
        "id": "e4a89NVZ2AWs",
        "outputId": "33952b74-6cd7-456b-fa89-c27cb37cd9fa"
      },
      "outputs": [
        {
          "output_type": "stream",
          "name": "stdout",
          "text": [
            "hello world\n"
          ]
        }
      ],
      "source": [
        "def hello():\n",
        "    return 'hello world'\n",
        "\n",
        "print(hello())"
      ]
    },
    {
      "cell_type": "markdown",
      "source": [
        "##EDA\n"
      ],
      "metadata": {
        "id": "dBNu_grp27u7"
      }
    },
    {
      "cell_type": "code",
      "source": [],
      "metadata": {
        "id": "XzWLAsGL3FDU"
      },
      "execution_count": null,
      "outputs": []
    },
    {
      "cell_type": "markdown",
      "source": [
        "## Modeling"
      ],
      "metadata": {
        "id": "Dy-N9j7e3OS_"
      }
    },
    {
      "cell_type": "code",
      "source": [],
      "metadata": {
        "id": "CRgJUAO53QJO"
      },
      "execution_count": null,
      "outputs": []
    },
    {
      "cell_type": "markdown",
      "source": [
        "##Conclusion"
      ],
      "metadata": {
        "id": "uZ4ng5qr3QlG"
      }
    },
    {
      "cell_type": "code",
      "source": [],
      "metadata": {
        "id": "p2XOmwgl3VTc"
      },
      "execution_count": null,
      "outputs": []
    },
    {
      "cell_type": "code",
      "source": [],
      "metadata": {
        "id": "9pf_KQLS2JbQ"
      },
      "execution_count": null,
      "outputs": []
    }
  ]
}